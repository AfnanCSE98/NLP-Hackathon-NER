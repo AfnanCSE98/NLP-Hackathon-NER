{
  "metadata": {
    "kernelspec": {
      "language": "python",
      "display_name": "Python 3",
      "name": "python3"
    },
    "language_info": {
      "pygments_lexer": "ipython3",
      "nbconvert_exporter": "python",
      "version": "3.6.4",
      "file_extension": ".py",
      "codemirror_mode": {
        "name": "ipython",
        "version": 3
      },
      "name": "python",
      "mimetype": "text/x-python"
    },
    "colab": {
      "provenance": []
    }
  },
  "nbformat_minor": 0,
  "nbformat": 4,
  "cells": [
    {
      "cell_type": "code",
      "source": [
        "# scikit-learn                      0.23.2\n",
        "# sklearn-crfsuite                  0.3.6\n",
        "!pip install scikit-learn==0.23.2\n",
        "!pip install sklearn-crfsuite==0.3.6"
      ],
      "metadata": {
        "colab": {
          "base_uri": "https://localhost:8080/"
        },
        "id": "NgeDjTqgAdfB",
        "outputId": "e0fb8a02-0b05-4a63-c641-12494e9ce7ea"
      },
      "execution_count": 47,
      "outputs": [
        {
          "output_type": "stream",
          "name": "stdout",
          "text": [
            "Looking in indexes: https://pypi.org/simple, https://us-python.pkg.dev/colab-wheels/public/simple/\n",
            "Requirement already satisfied: scikit-learn==0.23.2 in /usr/local/lib/python3.8/dist-packages (0.23.2)\n",
            "Requirement already satisfied: threadpoolctl>=2.0.0 in /usr/local/lib/python3.8/dist-packages (from scikit-learn==0.23.2) (3.1.0)\n",
            "Requirement already satisfied: numpy>=1.13.3 in /usr/local/lib/python3.8/dist-packages (from scikit-learn==0.23.2) (1.21.6)\n",
            "Requirement already satisfied: scipy>=0.19.1 in /usr/local/lib/python3.8/dist-packages (from scikit-learn==0.23.2) (1.7.3)\n",
            "Requirement already satisfied: joblib>=0.11 in /usr/local/lib/python3.8/dist-packages (from scikit-learn==0.23.2) (1.2.0)\n",
            "Looking in indexes: https://pypi.org/simple, https://us-python.pkg.dev/colab-wheels/public/simple/\n",
            "Requirement already satisfied: sklearn-crfsuite==0.3.6 in /usr/local/lib/python3.8/dist-packages (0.3.6)\n",
            "Requirement already satisfied: tqdm>=2.0 in /usr/local/lib/python3.8/dist-packages (from sklearn-crfsuite==0.3.6) (4.64.1)\n",
            "Requirement already satisfied: six in /usr/local/lib/python3.8/dist-packages (from sklearn-crfsuite==0.3.6) (1.15.0)\n",
            "Requirement already satisfied: python-crfsuite>=0.8.3 in /usr/local/lib/python3.8/dist-packages (from sklearn-crfsuite==0.3.6) (0.9.8)\n",
            "Requirement already satisfied: tabulate in /usr/local/lib/python3.8/dist-packages (from sklearn-crfsuite==0.3.6) (0.8.10)\n"
          ]
        }
      ]
    },
    {
      "cell_type": "code",
      "source": [
        "!pip install bnlp_toolkit"
      ],
      "metadata": {
        "colab": {
          "base_uri": "https://localhost:8080/"
        },
        "id": "ZgIs1JB-FCZO",
        "outputId": "fb3e258b-f5ba-4ef8-bfe9-aa0dd79c4d09"
      },
      "execution_count": 48,
      "outputs": [
        {
          "output_type": "stream",
          "name": "stdout",
          "text": [
            "Looking in indexes: https://pypi.org/simple, https://us-python.pkg.dev/colab-wheels/public/simple/\n",
            "Requirement already satisfied: bnlp_toolkit in /usr/local/lib/python3.8/dist-packages (3.2.0)\n",
            "Requirement already satisfied: tqdm in /usr/local/lib/python3.8/dist-packages (from bnlp_toolkit) (4.64.1)\n",
            "Requirement already satisfied: sentencepiece in /usr/local/lib/python3.8/dist-packages (from bnlp_toolkit) (0.1.97)\n",
            "Requirement already satisfied: numpy in /usr/local/lib/python3.8/dist-packages (from bnlp_toolkit) (1.21.6)\n",
            "Requirement already satisfied: sklearn-crfsuite in /usr/local/lib/python3.8/dist-packages (from bnlp_toolkit) (0.3.6)\n",
            "Requirement already satisfied: gensim==4.0.1 in /usr/local/lib/python3.8/dist-packages (from bnlp_toolkit) (4.0.1)\n",
            "Requirement already satisfied: nltk in /usr/local/lib/python3.8/dist-packages (from bnlp_toolkit) (3.7)\n",
            "Requirement already satisfied: wasabi in /usr/local/lib/python3.8/dist-packages (from bnlp_toolkit) (0.10.1)\n",
            "Requirement already satisfied: scipy in /usr/local/lib/python3.8/dist-packages (from bnlp_toolkit) (1.7.3)\n",
            "Requirement already satisfied: smart-open>=1.8.1 in /usr/local/lib/python3.8/dist-packages (from gensim==4.0.1->bnlp_toolkit) (6.3.0)\n",
            "Requirement already satisfied: click in /usr/local/lib/python3.8/dist-packages (from nltk->bnlp_toolkit) (7.1.2)\n",
            "Requirement already satisfied: regex>=2021.8.3 in /usr/local/lib/python3.8/dist-packages (from nltk->bnlp_toolkit) (2022.6.2)\n",
            "Requirement already satisfied: joblib in /usr/local/lib/python3.8/dist-packages (from nltk->bnlp_toolkit) (1.2.0)\n",
            "Requirement already satisfied: python-crfsuite>=0.8.3 in /usr/local/lib/python3.8/dist-packages (from sklearn-crfsuite->bnlp_toolkit) (0.9.8)\n",
            "Requirement already satisfied: six in /usr/local/lib/python3.8/dist-packages (from sklearn-crfsuite->bnlp_toolkit) (1.15.0)\n",
            "Requirement already satisfied: tabulate in /usr/local/lib/python3.8/dist-packages (from sklearn-crfsuite->bnlp_toolkit) (0.8.10)\n"
          ]
        }
      ]
    },
    {
      "cell_type": "code",
      "source": [
        "!git clone https://github.com/sagorbrur/bnlp/ --depth 1"
      ],
      "metadata": {
        "colab": {
          "base_uri": "https://localhost:8080/"
        },
        "id": "F_bVoGx7FhD1",
        "outputId": "7af78f36-5a81-40ea-b98e-a11c64f33051"
      },
      "execution_count": 49,
      "outputs": [
        {
          "output_type": "stream",
          "name": "stdout",
          "text": [
            "fatal: destination path 'bnlp' already exists and is not an empty directory.\n"
          ]
        }
      ]
    },
    {
      "cell_type": "code",
      "source": [],
      "metadata": {
        "id": "ohCblH0JGV3i"
      },
      "execution_count": 49,
      "outputs": []
    },
    {
      "cell_type": "code",
      "source": [
        "from google.colab import drive\n",
        "drive.mount('/content/drive')"
      ],
      "metadata": {
        "colab": {
          "base_uri": "https://localhost:8080/"
        },
        "id": "3LOldaD8GV8g",
        "outputId": "6e5c0353-5cba-42d6-cbae-d75fda4115f9"
      },
      "execution_count": 50,
      "outputs": [
        {
          "output_type": "stream",
          "name": "stdout",
          "text": [
            "Drive already mounted at /content/drive; to attempt to forcibly remount, call drive.mount(\"/content/drive\", force_remount=True).\n"
          ]
        }
      ]
    },
    {
      "cell_type": "code",
      "source": [
        "# from bnlp import POS\n",
        "# bn_pos = POS()\n",
        "# model_path = \"bnlp/model/bn_pos.pkl\"\n",
        "# text = [\"আমি\", 'ভাত', 'খাই'] # or you can pass ['আমি', 'ভাত', 'খাই', '।']\n",
        "# for t in text:\n",
        "#   res = bn_pos.tag(model_path, t)\n",
        "#   print(res)\n"
      ],
      "metadata": {
        "id": "Z6NBOTtEGdPx"
      },
      "execution_count": 51,
      "outputs": []
    },
    {
      "cell_type": "code",
      "source": [
        "# dir(POS)"
      ],
      "metadata": {
        "id": "nK7AgiRlHcQ_"
      },
      "execution_count": 52,
      "outputs": []
    },
    {
      "cell_type": "code",
      "source": [
        "from bnlp.corpus import stopwords, punctuations, letters, digits\n",
        "\n",
        "# print(stopwords)\n",
        "# print(punctuations)\n",
        "# print(letters)\n",
        "# print(digits)"
      ],
      "metadata": {
        "id": "erDLKunJJT4S"
      },
      "execution_count": 53,
      "outputs": []
    },
    {
      "cell_type": "code",
      "source": [
        "# from bnlp import NER\n",
        "# bn_ner = NER()\n",
        "# model_path = \"bnlp/model/bn_ner.pkl\"\n",
        "# text = \"সে ঢাকায় থাকে।\" # or you can pass ['সে', 'ঢাকায়', 'থাকে', '।']\n",
        "# result = bn_ner.tag(model_path, text)\n",
        "# print(result)\n",
        "# # [('সে', 'O'), ('ঢাকায়', 'S-LOC'), ('থাকে', 'O')]"
      ],
      "metadata": {
        "id": "ltyMOHviJq9C"
      },
      "execution_count": 54,
      "outputs": []
    },
    {
      "cell_type": "code",
      "source": [
        "# from bnlp import POS\n",
        "# bn_pos = POS()\n",
        "# model_path = \"bnlp/model/bn_pos.pkl\"\n",
        "# text = [\"ঢাকা \", 'হতে', 'দূরে'] # or you can pass ['আমি', 'ভাত', 'খাই', '।']\n",
        "# for t in text:\n",
        "#   res = bn_pos.tag(model_path, t)\n",
        "#   print(res)\n"
      ],
      "metadata": {
        "id": "IPwl_x7FKHiw"
      },
      "execution_count": 55,
      "outputs": []
    },
    {
      "cell_type": "code",
      "source": [
        "\n",
        "from bnlp import POS\n",
        "bn_pos = POS()\n",
        "model_path = \"bnlp/model/bn_pos.pkl\"\n",
        "\n",
        "def isPPR(text): \n",
        "  if(bn_pos.tag(model_path, text) == \"PPR\"): \n",
        "    # print(\"Yes PPR\")\n",
        "    return True\n",
        "  return False \n",
        "\n",
        "def isStopWord(text):\n",
        "  global stopwords\n",
        "  return text in stopwords\n",
        "\n",
        "def isDigit(text):\n",
        "  global digits\n",
        "  return text in digits\n",
        "\n",
        "def isPuncutuation(text): \n",
        "  global punctuations\n",
        "  return text in punctuations\n"
      ],
      "metadata": {
        "id": "-1afGtKmLDUf"
      },
      "execution_count": 56,
      "outputs": []
    },
    {
      "cell_type": "code",
      "source": [],
      "metadata": {
        "id": "45_hy7bBNXFf"
      },
      "execution_count": 56,
      "outputs": []
    },
    {
      "cell_type": "code",
      "source": [
        "# from bnlp import POS\n",
        "# bn_pos = POS()\n",
        "# model_path = \"bnlp/model/bn_pos.pkl\"\n",
        "# text = \"ঢাকা হতে দূরে ।\" # or you can pass ['আমি', 'ভাত', 'খাই', '।']\n",
        "# res = bn_pos.tag(model_path, text)\n",
        "# print(res)\n"
      ],
      "metadata": {
        "id": "zJnJHg2dK9Ew"
      },
      "execution_count": 57,
      "outputs": []
    },
    {
      "cell_type": "code",
      "source": [],
      "metadata": {
        "id": "Sb6sMaBNK9xM"
      },
      "execution_count": 57,
      "outputs": []
    },
    {
      "cell_type": "code",
      "source": [
        "# ! pip install -U 'scikit-learn<0.24'"
      ],
      "metadata": {
        "id": "uj-2l5RMkgwr"
      },
      "execution_count": 58,
      "outputs": []
    },
    {
      "cell_type": "code",
      "source": [
        "# !pip install sklearn_crfsuite"
      ],
      "metadata": {
        "id": "pdq7CD2fkiNK"
      },
      "execution_count": 59,
      "outputs": []
    },
    {
      "cell_type": "code",
      "source": [],
      "metadata": {
        "id": "Gmk1IAtCadvX"
      },
      "execution_count": 59,
      "outputs": []
    },
    {
      "cell_type": "code",
      "source": [],
      "metadata": {
        "id": "AcRpzDQmrc-g"
      },
      "execution_count": 59,
      "outputs": []
    },
    {
      "cell_type": "code",
      "source": [
        "!rm dev_generic_no_punc.csv\n",
        "!rm train_generic_no_punc.csv"
      ],
      "metadata": {
        "id": "zNgx2QBFaswQ"
      },
      "execution_count": 60,
      "outputs": []
    },
    {
      "cell_type": "code",
      "source": [
        "!cp \"/content/drive/MyDrive/Colab Notebooks/NLP_Hackathon/dev_generic_no_punc.csv\" dev_generic_no_punc.csv\n",
        "!cp \"/content/drive/MyDrive/Colab Notebooks/NLP_Hackathon/train_generic_no_punc.csv\" train_generic_no_punc.csv"
      ],
      "metadata": {
        "id": "rXMHxyUUaaCZ"
      },
      "execution_count": 61,
      "outputs": []
    },
    {
      "cell_type": "code",
      "source": [],
      "metadata": {
        "id": "XMb4dd0IacO-"
      },
      "execution_count": 61,
      "outputs": []
    },
    {
      "cell_type": "code",
      "source": [
        "import pandas as pd\n",
        "\n",
        "from sklearn_crfsuite import CRF\n",
        "from sklearn_crfsuite import metrics"
      ],
      "metadata": {
        "execution": {
          "iopub.status.busy": "2021-11-21T22:01:45.960355Z",
          "iopub.execute_input": "2021-11-21T22:01:45.960657Z",
          "iopub.status.idle": "2021-11-21T22:01:46.862227Z",
          "shell.execute_reply.started": "2021-11-21T22:01:45.960608Z",
          "shell.execute_reply": "2021-11-21T22:01:46.861405Z"
        },
        "trusted": true,
        "id": "uWU5Tg_5ZSwY"
      },
      "execution_count": 62,
      "outputs": []
    },
    {
      "cell_type": "code",
      "source": [
        "def extract_sentence_features(df):\n",
        "    sentence_length = len(df)\n",
        "\n",
        "    for i in range(sentence_length):\n",
        "        token = df.iloc[i]['word']\n",
        "\n",
        "        features = {\n",
        "            'bias': 1.0,\n",
        "            'token.lower()': token.lower(),\n",
        "            # 'isPPR(token)': isPPR(token),\n",
        "            'isStopWord(token)': isStopWord(token),\n",
        "            'token.isupper()': token.isupper(),\n",
        "            'token.istitle()': token.istitle(),\n",
        "            # 'token.isdigit()': token.isdigit()\n",
        "            'isDigit(token)': isDigit(token),\n",
        "            'isPuncutuation(token)': isPuncutuation(token),\n",
        "        }\n",
        "\n",
        "        if i > 0:\n",
        "            previous_token = df.iloc[i-1]['word']\n",
        "            features.update({\n",
        "                'previous_token.lower()': previous_token.lower(),\n",
        "                # 'isPPR(previous_token)': isPPR(previous_token),\n",
        "                'isStopWord(previous_token)': isStopWord(previous_token),\n",
        "                'previous_token.isupper()': previous_token.isupper(),\n",
        "                'previous_token.istitle()': previous_token.istitle(),\n",
        "                # 'previous_token.isdigit()': previous_token.isdigit()\n",
        "                'isDigit(previous_token)': isDigit(previous_token),\n",
        "                'isPuncutuation(previous_token)': isPuncutuation(previous_token),\n",
        "            })\n",
        "        else:\n",
        "            features['BOS'] = True\n",
        "\n",
        "        if i < sentence_length - 1:\n",
        "            posterior_token = df.iloc[i+1]['word']\n",
        "            features.update({\n",
        "                'posterior_token.lower()': posterior_token.lower(),\n",
        "                # 'isPPR(posterior_token)': isPPR(posterior_token),\n",
        "                'isStopWord(posterior_token)': isStopWord(posterior_token),\n",
        "                'posterior_token.isupper()': posterior_token.isupper(),\n",
        "                'posterior_token.istitle()': posterior_token.istitle(),\n",
        "                # 'posterior_token.isdigit()': posterior_token.isdigit()\n",
        "                'isDigit(posterior_token)': isDigit(posterior_token),\n",
        "                'isPuncutuation(posterior_token)': isPuncutuation(posterior_token),\n",
        "            })\n",
        "        else:\n",
        "            features['EOS'] = True\n",
        "\n",
        "        yield features"
      ],
      "metadata": {
        "execution": {
          "iopub.status.busy": "2021-11-21T22:01:46.863595Z",
          "iopub.execute_input": "2021-11-21T22:01:46.863881Z",
          "iopub.status.idle": "2021-11-21T22:01:46.874663Z",
          "shell.execute_reply.started": "2021-11-21T22:01:46.863825Z",
          "shell.execute_reply": "2021-11-21T22:01:46.873337Z"
        },
        "trusted": true,
        "id": "2v6_NNOtZSwY"
      },
      "execution_count": 63,
      "outputs": []
    },
    {
      "cell_type": "code",
      "source": [
        "from tqdm import tqdm\n",
        "def prepare(df, include_y=False):\n",
        "    X, y = [], []\n",
        "    for _, group_df in tqdm(df.groupby(['sentence_id'])):\n",
        "        X.append(list(extract_sentence_features(group_df)))\n",
        "        if include_y:\n",
        "            y.append(group_df['tag'])\n",
        "    if include_y:\n",
        "        return X, y\n",
        "    return X"
      ],
      "metadata": {
        "execution": {
          "iopub.status.busy": "2021-11-21T22:01:46.877435Z",
          "iopub.execute_input": "2021-11-21T22:01:46.877954Z",
          "iopub.status.idle": "2021-11-21T22:01:46.888726Z",
          "shell.execute_reply.started": "2021-11-21T22:01:46.877913Z",
          "shell.execute_reply": "2021-11-21T22:01:46.88779Z"
        },
        "trusted": true,
        "id": "uSdR39XEZSwY"
      },
      "execution_count": 64,
      "outputs": []
    },
    {
      "cell_type": "code",
      "source": [
        "train_df = pd.read_csv('train_generic_no_punc.csv')\n",
        "validation_df = pd.read_csv('dev_generic_no_punc.csv')\n"
      ],
      "metadata": {
        "execution": {
          "iopub.status.busy": "2021-11-21T22:01:46.890541Z",
          "iopub.execute_input": "2021-11-21T22:01:46.891186Z",
          "iopub.status.idle": "2021-11-21T22:01:48.678368Z",
          "shell.execute_reply.started": "2021-11-21T22:01:46.891145Z",
          "shell.execute_reply": "2021-11-21T22:01:48.677643Z"
        },
        "trusted": true,
        "id": "7mA5df-VZSwZ"
      },
      "execution_count": 65,
      "outputs": []
    },
    {
      "cell_type": "markdown",
      "source": [],
      "metadata": {
        "id": "8mlsyP_dr3LS"
      }
    },
    {
      "cell_type": "code",
      "source": [
        "train_df.head()"
      ],
      "metadata": {
        "execution": {
          "iopub.status.busy": "2021-11-21T22:01:48.67981Z",
          "iopub.execute_input": "2021-11-21T22:01:48.680234Z",
          "iopub.status.idle": "2021-11-21T22:01:48.698765Z",
          "shell.execute_reply.started": "2021-11-21T22:01:48.680202Z",
          "shell.execute_reply": "2021-11-21T22:01:48.697919Z"
        },
        "trusted": true,
        "colab": {
          "base_uri": "https://localhost:8080/",
          "height": 206
        },
        "id": "685_T5TFZSwZ",
        "outputId": "bb1aa669-b6ed-4445-f19d-dee3890c41b5"
      },
      "execution_count": 66,
      "outputs": [
        {
          "output_type": "execute_result",
          "data": {
            "text/plain": [
              "   sentence_id     word tag\n",
              "0            0      তার   O\n",
              "1            0  মৃত্যুর   O\n",
              "2            0       দশ   O\n",
              "3            0      দিন   O\n",
              "4            0       পর   O"
            ],
            "text/html": [
              "\n",
              "  <div id=\"df-249a5f0f-ecb7-4618-8de3-07b8b8fc556c\">\n",
              "    <div class=\"colab-df-container\">\n",
              "      <div>\n",
              "<style scoped>\n",
              "    .dataframe tbody tr th:only-of-type {\n",
              "        vertical-align: middle;\n",
              "    }\n",
              "\n",
              "    .dataframe tbody tr th {\n",
              "        vertical-align: top;\n",
              "    }\n",
              "\n",
              "    .dataframe thead th {\n",
              "        text-align: right;\n",
              "    }\n",
              "</style>\n",
              "<table border=\"1\" class=\"dataframe\">\n",
              "  <thead>\n",
              "    <tr style=\"text-align: right;\">\n",
              "      <th></th>\n",
              "      <th>sentence_id</th>\n",
              "      <th>word</th>\n",
              "      <th>tag</th>\n",
              "    </tr>\n",
              "  </thead>\n",
              "  <tbody>\n",
              "    <tr>\n",
              "      <th>0</th>\n",
              "      <td>0</td>\n",
              "      <td>তার</td>\n",
              "      <td>O</td>\n",
              "    </tr>\n",
              "    <tr>\n",
              "      <th>1</th>\n",
              "      <td>0</td>\n",
              "      <td>মৃত্যুর</td>\n",
              "      <td>O</td>\n",
              "    </tr>\n",
              "    <tr>\n",
              "      <th>2</th>\n",
              "      <td>0</td>\n",
              "      <td>দশ</td>\n",
              "      <td>O</td>\n",
              "    </tr>\n",
              "    <tr>\n",
              "      <th>3</th>\n",
              "      <td>0</td>\n",
              "      <td>দিন</td>\n",
              "      <td>O</td>\n",
              "    </tr>\n",
              "    <tr>\n",
              "      <th>4</th>\n",
              "      <td>0</td>\n",
              "      <td>পর</td>\n",
              "      <td>O</td>\n",
              "    </tr>\n",
              "  </tbody>\n",
              "</table>\n",
              "</div>\n",
              "      <button class=\"colab-df-convert\" onclick=\"convertToInteractive('df-249a5f0f-ecb7-4618-8de3-07b8b8fc556c')\"\n",
              "              title=\"Convert this dataframe to an interactive table.\"\n",
              "              style=\"display:none;\">\n",
              "        \n",
              "  <svg xmlns=\"http://www.w3.org/2000/svg\" height=\"24px\"viewBox=\"0 0 24 24\"\n",
              "       width=\"24px\">\n",
              "    <path d=\"M0 0h24v24H0V0z\" fill=\"none\"/>\n",
              "    <path d=\"M18.56 5.44l.94 2.06.94-2.06 2.06-.94-2.06-.94-.94-2.06-.94 2.06-2.06.94zm-11 1L8.5 8.5l.94-2.06 2.06-.94-2.06-.94L8.5 2.5l-.94 2.06-2.06.94zm10 10l.94 2.06.94-2.06 2.06-.94-2.06-.94-.94-2.06-.94 2.06-2.06.94z\"/><path d=\"M17.41 7.96l-1.37-1.37c-.4-.4-.92-.59-1.43-.59-.52 0-1.04.2-1.43.59L10.3 9.45l-7.72 7.72c-.78.78-.78 2.05 0 2.83L4 21.41c.39.39.9.59 1.41.59.51 0 1.02-.2 1.41-.59l7.78-7.78 2.81-2.81c.8-.78.8-2.07 0-2.86zM5.41 20L4 18.59l7.72-7.72 1.47 1.35L5.41 20z\"/>\n",
              "  </svg>\n",
              "      </button>\n",
              "      \n",
              "  <style>\n",
              "    .colab-df-container {\n",
              "      display:flex;\n",
              "      flex-wrap:wrap;\n",
              "      gap: 12px;\n",
              "    }\n",
              "\n",
              "    .colab-df-convert {\n",
              "      background-color: #E8F0FE;\n",
              "      border: none;\n",
              "      border-radius: 50%;\n",
              "      cursor: pointer;\n",
              "      display: none;\n",
              "      fill: #1967D2;\n",
              "      height: 32px;\n",
              "      padding: 0 0 0 0;\n",
              "      width: 32px;\n",
              "    }\n",
              "\n",
              "    .colab-df-convert:hover {\n",
              "      background-color: #E2EBFA;\n",
              "      box-shadow: 0px 1px 2px rgba(60, 64, 67, 0.3), 0px 1px 3px 1px rgba(60, 64, 67, 0.15);\n",
              "      fill: #174EA6;\n",
              "    }\n",
              "\n",
              "    [theme=dark] .colab-df-convert {\n",
              "      background-color: #3B4455;\n",
              "      fill: #D2E3FC;\n",
              "    }\n",
              "\n",
              "    [theme=dark] .colab-df-convert:hover {\n",
              "      background-color: #434B5C;\n",
              "      box-shadow: 0px 1px 3px 1px rgba(0, 0, 0, 0.15);\n",
              "      filter: drop-shadow(0px 1px 2px rgba(0, 0, 0, 0.3));\n",
              "      fill: #FFFFFF;\n",
              "    }\n",
              "  </style>\n",
              "\n",
              "      <script>\n",
              "        const buttonEl =\n",
              "          document.querySelector('#df-249a5f0f-ecb7-4618-8de3-07b8b8fc556c button.colab-df-convert');\n",
              "        buttonEl.style.display =\n",
              "          google.colab.kernel.accessAllowed ? 'block' : 'none';\n",
              "\n",
              "        async function convertToInteractive(key) {\n",
              "          const element = document.querySelector('#df-249a5f0f-ecb7-4618-8de3-07b8b8fc556c');\n",
              "          const dataTable =\n",
              "            await google.colab.kernel.invokeFunction('convertToInteractive',\n",
              "                                                     [key], {});\n",
              "          if (!dataTable) return;\n",
              "\n",
              "          const docLinkHtml = 'Like what you see? Visit the ' +\n",
              "            '<a target=\"_blank\" href=https://colab.research.google.com/notebooks/data_table.ipynb>data table notebook</a>'\n",
              "            + ' to learn more about interactive tables.';\n",
              "          element.innerHTML = '';\n",
              "          dataTable['output_type'] = 'display_data';\n",
              "          await google.colab.output.renderOutput(dataTable, element);\n",
              "          const docLink = document.createElement('div');\n",
              "          docLink.innerHTML = docLinkHtml;\n",
              "          element.appendChild(docLink);\n",
              "        }\n",
              "      </script>\n",
              "    </div>\n",
              "  </div>\n",
              "  "
            ]
          },
          "metadata": {},
          "execution_count": 66
        }
      ]
    },
    {
      "cell_type": "code",
      "source": [
        "train_df.info()"
      ],
      "metadata": {
        "execution": {
          "iopub.status.busy": "2021-11-21T22:01:48.700116Z",
          "iopub.execute_input": "2021-11-21T22:01:48.700517Z",
          "iopub.status.idle": "2021-11-21T22:01:48.939647Z",
          "shell.execute_reply.started": "2021-11-21T22:01:48.700475Z",
          "shell.execute_reply": "2021-11-21T22:01:48.938765Z"
        },
        "trusted": true,
        "colab": {
          "base_uri": "https://localhost:8080/"
        },
        "id": "YHBLtSakZSwZ",
        "outputId": "346c0af8-c312-4051-cd08-454d5377091d"
      },
      "execution_count": 67,
      "outputs": [
        {
          "output_type": "stream",
          "name": "stdout",
          "text": [
            "<class 'pandas.core.frame.DataFrame'>\n",
            "RangeIndex: 191897 entries, 0 to 191896\n",
            "Data columns (total 3 columns):\n",
            " #   Column       Non-Null Count   Dtype \n",
            "---  ------       --------------   ----- \n",
            " 0   sentence_id  191897 non-null  int64 \n",
            " 1   word         191897 non-null  object\n",
            " 2   tag          191897 non-null  object\n",
            "dtypes: int64(1), object(2)\n",
            "memory usage: 4.4+ MB\n"
          ]
        }
      ]
    },
    {
      "cell_type": "code",
      "source": [
        "validation_df.head()"
      ],
      "metadata": {
        "colab": {
          "base_uri": "https://localhost:8080/",
          "height": 206
        },
        "id": "0nsK2JRiaLVg",
        "outputId": "3cf357d5-8263-4923-fba8-18fb57c62023"
      },
      "execution_count": 68,
      "outputs": [
        {
          "output_type": "execute_result",
          "data": {
            "text/plain": [
              "   sentence_id     word    tag\n",
              "0            0     তিনি      O\n",
              "1            0     যুবক      O\n",
              "2            0   হিসেবে      O\n",
              "3            0  শেফিল্ড  B-GRP\n",
              "4            0   বুধবার  I-GRP"
            ],
            "text/html": [
              "\n",
              "  <div id=\"df-d5e32bcc-7323-46e5-9be1-cc5b9b4dc056\">\n",
              "    <div class=\"colab-df-container\">\n",
              "      <div>\n",
              "<style scoped>\n",
              "    .dataframe tbody tr th:only-of-type {\n",
              "        vertical-align: middle;\n",
              "    }\n",
              "\n",
              "    .dataframe tbody tr th {\n",
              "        vertical-align: top;\n",
              "    }\n",
              "\n",
              "    .dataframe thead th {\n",
              "        text-align: right;\n",
              "    }\n",
              "</style>\n",
              "<table border=\"1\" class=\"dataframe\">\n",
              "  <thead>\n",
              "    <tr style=\"text-align: right;\">\n",
              "      <th></th>\n",
              "      <th>sentence_id</th>\n",
              "      <th>word</th>\n",
              "      <th>tag</th>\n",
              "    </tr>\n",
              "  </thead>\n",
              "  <tbody>\n",
              "    <tr>\n",
              "      <th>0</th>\n",
              "      <td>0</td>\n",
              "      <td>তিনি</td>\n",
              "      <td>O</td>\n",
              "    </tr>\n",
              "    <tr>\n",
              "      <th>1</th>\n",
              "      <td>0</td>\n",
              "      <td>যুবক</td>\n",
              "      <td>O</td>\n",
              "    </tr>\n",
              "    <tr>\n",
              "      <th>2</th>\n",
              "      <td>0</td>\n",
              "      <td>হিসেবে</td>\n",
              "      <td>O</td>\n",
              "    </tr>\n",
              "    <tr>\n",
              "      <th>3</th>\n",
              "      <td>0</td>\n",
              "      <td>শেফিল্ড</td>\n",
              "      <td>B-GRP</td>\n",
              "    </tr>\n",
              "    <tr>\n",
              "      <th>4</th>\n",
              "      <td>0</td>\n",
              "      <td>বুধবার</td>\n",
              "      <td>I-GRP</td>\n",
              "    </tr>\n",
              "  </tbody>\n",
              "</table>\n",
              "</div>\n",
              "      <button class=\"colab-df-convert\" onclick=\"convertToInteractive('df-d5e32bcc-7323-46e5-9be1-cc5b9b4dc056')\"\n",
              "              title=\"Convert this dataframe to an interactive table.\"\n",
              "              style=\"display:none;\">\n",
              "        \n",
              "  <svg xmlns=\"http://www.w3.org/2000/svg\" height=\"24px\"viewBox=\"0 0 24 24\"\n",
              "       width=\"24px\">\n",
              "    <path d=\"M0 0h24v24H0V0z\" fill=\"none\"/>\n",
              "    <path d=\"M18.56 5.44l.94 2.06.94-2.06 2.06-.94-2.06-.94-.94-2.06-.94 2.06-2.06.94zm-11 1L8.5 8.5l.94-2.06 2.06-.94-2.06-.94L8.5 2.5l-.94 2.06-2.06.94zm10 10l.94 2.06.94-2.06 2.06-.94-2.06-.94-.94-2.06-.94 2.06-2.06.94z\"/><path d=\"M17.41 7.96l-1.37-1.37c-.4-.4-.92-.59-1.43-.59-.52 0-1.04.2-1.43.59L10.3 9.45l-7.72 7.72c-.78.78-.78 2.05 0 2.83L4 21.41c.39.39.9.59 1.41.59.51 0 1.02-.2 1.41-.59l7.78-7.78 2.81-2.81c.8-.78.8-2.07 0-2.86zM5.41 20L4 18.59l7.72-7.72 1.47 1.35L5.41 20z\"/>\n",
              "  </svg>\n",
              "      </button>\n",
              "      \n",
              "  <style>\n",
              "    .colab-df-container {\n",
              "      display:flex;\n",
              "      flex-wrap:wrap;\n",
              "      gap: 12px;\n",
              "    }\n",
              "\n",
              "    .colab-df-convert {\n",
              "      background-color: #E8F0FE;\n",
              "      border: none;\n",
              "      border-radius: 50%;\n",
              "      cursor: pointer;\n",
              "      display: none;\n",
              "      fill: #1967D2;\n",
              "      height: 32px;\n",
              "      padding: 0 0 0 0;\n",
              "      width: 32px;\n",
              "    }\n",
              "\n",
              "    .colab-df-convert:hover {\n",
              "      background-color: #E2EBFA;\n",
              "      box-shadow: 0px 1px 2px rgba(60, 64, 67, 0.3), 0px 1px 3px 1px rgba(60, 64, 67, 0.15);\n",
              "      fill: #174EA6;\n",
              "    }\n",
              "\n",
              "    [theme=dark] .colab-df-convert {\n",
              "      background-color: #3B4455;\n",
              "      fill: #D2E3FC;\n",
              "    }\n",
              "\n",
              "    [theme=dark] .colab-df-convert:hover {\n",
              "      background-color: #434B5C;\n",
              "      box-shadow: 0px 1px 3px 1px rgba(0, 0, 0, 0.15);\n",
              "      filter: drop-shadow(0px 1px 2px rgba(0, 0, 0, 0.3));\n",
              "      fill: #FFFFFF;\n",
              "    }\n",
              "  </style>\n",
              "\n",
              "      <script>\n",
              "        const buttonEl =\n",
              "          document.querySelector('#df-d5e32bcc-7323-46e5-9be1-cc5b9b4dc056 button.colab-df-convert');\n",
              "        buttonEl.style.display =\n",
              "          google.colab.kernel.accessAllowed ? 'block' : 'none';\n",
              "\n",
              "        async function convertToInteractive(key) {\n",
              "          const element = document.querySelector('#df-d5e32bcc-7323-46e5-9be1-cc5b9b4dc056');\n",
              "          const dataTable =\n",
              "            await google.colab.kernel.invokeFunction('convertToInteractive',\n",
              "                                                     [key], {});\n",
              "          if (!dataTable) return;\n",
              "\n",
              "          const docLinkHtml = 'Like what you see? Visit the ' +\n",
              "            '<a target=\"_blank\" href=https://colab.research.google.com/notebooks/data_table.ipynb>data table notebook</a>'\n",
              "            + ' to learn more about interactive tables.';\n",
              "          element.innerHTML = '';\n",
              "          dataTable['output_type'] = 'display_data';\n",
              "          await google.colab.output.renderOutput(dataTable, element);\n",
              "          const docLink = document.createElement('div');\n",
              "          docLink.innerHTML = docLinkHtml;\n",
              "          element.appendChild(docLink);\n",
              "        }\n",
              "      </script>\n",
              "    </div>\n",
              "  </div>\n",
              "  "
            ]
          },
          "metadata": {},
          "execution_count": 68
        }
      ]
    },
    {
      "cell_type": "code",
      "source": [
        "validation_df.info()"
      ],
      "metadata": {
        "execution": {
          "iopub.status.busy": "2021-11-21T22:01:48.941799Z",
          "iopub.execute_input": "2021-11-21T22:01:48.942135Z",
          "iopub.status.idle": "2021-11-21T22:01:49.169749Z",
          "shell.execute_reply.started": "2021-11-21T22:01:48.94209Z",
          "shell.execute_reply": "2021-11-21T22:01:49.168918Z"
        },
        "trusted": true,
        "colab": {
          "base_uri": "https://localhost:8080/"
        },
        "id": "UWRWjQtbZSwZ",
        "outputId": "ff1c02ea-16d2-4c31-867f-0ed49bcd0674"
      },
      "execution_count": 69,
      "outputs": [
        {
          "output_type": "stream",
          "name": "stdout",
          "text": [
            "<class 'pandas.core.frame.DataFrame'>\n",
            "RangeIndex: 10333 entries, 0 to 10332\n",
            "Data columns (total 3 columns):\n",
            " #   Column       Non-Null Count  Dtype \n",
            "---  ------       --------------  ----- \n",
            " 0   sentence_id  10333 non-null  int64 \n",
            " 1   word         10333 non-null  object\n",
            " 2   tag          10333 non-null  object\n",
            "dtypes: int64(1), object(2)\n",
            "memory usage: 242.3+ KB\n"
          ]
        }
      ]
    },
    {
      "cell_type": "code",
      "source": [
        "train_df['word'].fillna('', inplace=True)\n",
        "validation_df['word'].fillna('', inplace=True)\n"
      ],
      "metadata": {
        "id": "eH_Bgw83ZSwZ"
      },
      "execution_count": 70,
      "outputs": []
    },
    {
      "cell_type": "code",
      "source": [
        "X_train, y_train = prepare(train_df, include_y=True)\n",
        "X_validation, y_validation = prepare(validation_df, include_y=True)\n"
      ],
      "metadata": {
        "execution": {
          "iopub.status.busy": "2021-11-21T22:01:49.374522Z",
          "iopub.execute_input": "2021-11-21T22:01:49.375407Z",
          "iopub.status.idle": "2021-11-21T22:13:00.966516Z",
          "shell.execute_reply.started": "2021-11-21T22:01:49.375355Z",
          "shell.execute_reply": "2021-11-21T22:13:00.965241Z"
        },
        "trusted": true,
        "id": "cjJ9Rwh0ZSwa",
        "colab": {
          "base_uri": "https://localhost:8080/"
        },
        "outputId": "d3e8d913-50e6-4a29-f818-7c5fe5b63823"
      },
      "execution_count": 71,
      "outputs": [
        {
          "output_type": "stream",
          "name": "stderr",
          "text": [
            "100%|██████████| 15300/15300 [01:22<00:00, 185.21it/s]\n",
            "100%|██████████| 800/800 [00:03<00:00, 207.36it/s]\n"
          ]
        }
      ]
    },
    {
      "cell_type": "code",
      "source": [],
      "metadata": {
        "id": "ADYrlpXraPko"
      },
      "execution_count": 71,
      "outputs": []
    },
    {
      "cell_type": "code",
      "source": [
        "len(X_train)"
      ],
      "metadata": {
        "execution": {
          "iopub.status.busy": "2021-11-21T22:13:00.968262Z",
          "iopub.execute_input": "2021-11-21T22:13:00.968938Z",
          "iopub.status.idle": "2021-11-21T22:13:00.975941Z",
          "shell.execute_reply.started": "2021-11-21T22:13:00.968896Z",
          "shell.execute_reply": "2021-11-21T22:13:00.97528Z"
        },
        "trusted": true,
        "colab": {
          "base_uri": "https://localhost:8080/"
        },
        "id": "r4kmcWHdZSwa",
        "outputId": "c4f09c66-0af5-4188-cf68-67d13f22e92f"
      },
      "execution_count": 72,
      "outputs": [
        {
          "output_type": "execute_result",
          "data": {
            "text/plain": [
              "15300"
            ]
          },
          "metadata": {},
          "execution_count": 72
        }
      ]
    },
    {
      "cell_type": "code",
      "source": [
        "len(X_validation)"
      ],
      "metadata": {
        "colab": {
          "base_uri": "https://localhost:8080/"
        },
        "id": "WbHwsv6jaP9m",
        "outputId": "96e72034-e8b4-4dd1-b23c-169b2042698e"
      },
      "execution_count": 73,
      "outputs": [
        {
          "output_type": "execute_result",
          "data": {
            "text/plain": [
              "800"
            ]
          },
          "metadata": {},
          "execution_count": 73
        }
      ]
    },
    {
      "cell_type": "code",
      "source": [
        "crf = CRF(\n",
        "    algorithm='lbfgs',\n",
        "    c1=0.1,\n",
        "    c2=0.1,\n",
        "    max_iterations=500,\n",
        "    all_possible_transitions=True,\n",
        "    # verbose=True,\n",
        ")"
      ],
      "metadata": {
        "execution": {
          "iopub.status.busy": "2021-11-21T22:13:00.977288Z",
          "iopub.execute_input": "2021-11-21T22:13:00.979039Z",
          "iopub.status.idle": "2021-11-21T22:13:00.995019Z",
          "shell.execute_reply.started": "2021-11-21T22:13:00.97899Z",
          "shell.execute_reply": "2021-11-21T22:13:00.993824Z"
        },
        "trusted": true,
        "id": "2yMtk3LFZSwa"
      },
      "execution_count": 74,
      "outputs": []
    },
    {
      "cell_type": "code",
      "source": [
        "crf.fit(X_train, y_train)\n",
        "# try:\n",
        "#     crf.fit(X_train, y_train)\n",
        "# except AttributeError:\n",
        "#     pass"
      ],
      "metadata": {
        "execution": {
          "iopub.status.busy": "2021-11-21T22:13:00.997732Z",
          "iopub.execute_input": "2021-11-21T22:13:00.998095Z",
          "iopub.status.idle": "2021-11-21T22:16:19.787879Z",
          "shell.execute_reply.started": "2021-11-21T22:13:00.99805Z",
          "shell.execute_reply": "2021-11-21T22:16:19.786873Z"
        },
        "trusted": true,
        "id": "aF4hIbzmZSwa"
      },
      "execution_count": null,
      "outputs": []
    },
    {
      "cell_type": "code",
      "source": [
        "y_pred = crf.predict(X_validation)"
      ],
      "metadata": {
        "execution": {
          "iopub.status.busy": "2021-11-21T22:16:19.788951Z",
          "iopub.execute_input": "2021-11-21T22:16:19.789142Z",
          "iopub.status.idle": "2021-11-21T22:16:27.681813Z",
          "shell.execute_reply.started": "2021-11-21T22:16:19.789116Z",
          "shell.execute_reply": "2021-11-21T22:16:27.680945Z"
        },
        "trusted": true,
        "id": "22xYRPzyZSwa"
      },
      "execution_count": null,
      "outputs": []
    },
    {
      "cell_type": "code",
      "source": [
        "y_validation[0]"
      ],
      "metadata": {
        "id": "tp5VhUpbT-a7"
      },
      "execution_count": null,
      "outputs": []
    },
    {
      "cell_type": "code",
      "source": [
        "y_pred[0]"
      ],
      "metadata": {
        "id": "CGLoffUKUCpR"
      },
      "execution_count": null,
      "outputs": []
    },
    {
      "cell_type": "code",
      "source": [
        "print(metrics.flat_classification_report(y_validation, y_pred, digits=4))"
      ],
      "metadata": {
        "execution": {
          "iopub.status.busy": "2021-11-21T22:16:27.683021Z",
          "iopub.execute_input": "2021-11-21T22:16:27.683321Z",
          "iopub.status.idle": "2021-11-21T22:16:42.542417Z",
          "shell.execute_reply.started": "2021-11-21T22:16:27.683281Z",
          "shell.execute_reply": "2021-11-21T22:16:42.541414Z"
        },
        "trusted": true,
        "id": "l3wo3SafZSwb"
      },
      "execution_count": null,
      "outputs": []
    },
    {
      "cell_type": "code",
      "source": [],
      "metadata": {
        "id": "J4ZPT4QytnDA"
      },
      "execution_count": null,
      "outputs": []
    },
    {
      "cell_type": "code",
      "source": [
        "# crf"
      ],
      "metadata": {
        "id": "3V4CezVCaw7D"
      },
      "execution_count": null,
      "outputs": []
    },
    {
      "cell_type": "code",
      "source": [
        "print(\"Done\")"
      ],
      "metadata": {
        "id": "89Mf5rtE4-fC"
      },
      "execution_count": null,
      "outputs": []
    },
    {
      "cell_type": "code",
      "source": [
        "import joblib\n",
        "\n",
        "# save the model to a file\n",
        "joblib.dump(crf, 'crf_model_no_punc_500_epoch.joblib')\n",
        "\n",
        "# later, to load the model from the file\n",
        "loaded_crf = joblib.load('crf_model_no_punc_500_epoch.joblib')\n"
      ],
      "metadata": {
        "id": "j76QO3AW5aAh"
      },
      "execution_count": null,
      "outputs": []
    },
    {
      "cell_type": "code",
      "source": [
        "# !cp crf_model.joblib \"/content/drive/MyDrive/Colab Notebooks/NLP_Hackathon/\""
      ],
      "metadata": {
        "id": "v1X-qtuR-ZyO"
      },
      "execution_count": null,
      "outputs": []
    },
    {
      "cell_type": "code",
      "source": [
        "# print(\"RandomForest\")"
      ],
      "metadata": {
        "id": "sN5s4_gbh1PT"
      },
      "execution_count": null,
      "outputs": []
    },
    {
      "cell_type": "code",
      "source": [
        "# from sklearn.ensemble import RandomForestClassifier\n",
        "# clf = RandomForestClassifier(n_estimators = 100)\n"
      ],
      "metadata": {
        "id": "yUR0GgLAtq28"
      },
      "execution_count": null,
      "outputs": []
    },
    {
      "cell_type": "code",
      "source": [
        "# len(X_train)\n"
      ],
      "metadata": {
        "id": "etBx_tGQu2A5"
      },
      "execution_count": null,
      "outputs": []
    },
    {
      "cell_type": "code",
      "source": [
        "# X_train[0]"
      ],
      "metadata": {
        "id": "4mVwiS1avN7b"
      },
      "execution_count": null,
      "outputs": []
    },
    {
      "cell_type": "code",
      "source": [
        "# clf.fit(X_train, y_train)"
      ],
      "metadata": {
        "id": "9zMMKzC_uzi9"
      },
      "execution_count": null,
      "outputs": []
    },
    {
      "cell_type": "code",
      "source": [
        "# y_pred = clf.predict(X_validation)"
      ],
      "metadata": {
        "id": "L5oQilqnuV3Z"
      },
      "execution_count": null,
      "outputs": []
    },
    {
      "cell_type": "code",
      "source": [
        "# print(metrics.flat_classification_report(y_validation, y_pred, digits=4))"
      ],
      "metadata": {
        "id": "APvZlQwlug3p"
      },
      "execution_count": null,
      "outputs": []
    }
  ]
}